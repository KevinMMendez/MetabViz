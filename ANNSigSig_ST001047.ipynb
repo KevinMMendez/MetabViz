{
 "cells": [
  {
   "cell_type": "markdown",
   "metadata": {
    "toc-hr-collapsed": false
   },
   "source": [
    "<div style=\"text-align: justify; padding:5px; background-color:rgb(252, 253, 255); border: 1px solid lightgrey; padding-left: 1em; padding-right: 1em;\">\n",
    "    <font color='red'>To begin: Click anywhere in this cell and press <kbd>Run</kbd> on the menu bar. This executes the current cell and then highlights the next cell. There are two types of cells. A <i>text cell</i> and a <i>code cell</i>. When you <kbd>Run</kbd> a text cell (<i>we are in a text cell now</i>), you advance to the next cell without executing any code. When you <kbd>Run</kbd> a code cell (<i>identified by <span style=\"font-family: courier; color:black; background-color:white;\">In[ ]:</span> to the left of the cell</i>) you advance to the next cell after executing all the Python code within that cell. Any visual results produced by the code (text/figures) are reported directly below that cell. Press <kbd>Run</kbd> again. Repeat this process until the end of the notebook. <b>NOTE:</b> All the cells in this notebook can be automatically executed sequentially by clicking <kbd>Kernel</kbd><font color='black'>→</font><kbd>Restart and Run All</kbd>. Should anything crash then restart the Jupyter Kernal by clicking <kbd>Kernel</kbd><font color='black'>→</font><kbd>Restart</kbd>, and start again from the top.\n",
    "        \n",
    "</div>"
   ]
  },
  {
   "cell_type": "markdown",
   "metadata": {
    "toc-hr-collapsed": true
   },
   "source": [
    "### 1. Import Packages"
   ]
  },
  {
   "cell_type": "code",
   "execution_count": null,
   "metadata": {},
   "outputs": [],
   "source": [
    "import numpy as np\n",
    "import pandas as pd\n",
    "import cimcb as cb\n",
    "\n",
    "print('All packages successfully loaded')\n",
    "\n",
    "%load_ext autoreload\n",
    "%autoreload 2"
   ]
  },
  {
   "cell_type": "markdown",
   "metadata": {},
   "source": [
    "### 2. Load Data & Peak Sheet"
   ]
  },
  {
   "cell_type": "code",
   "execution_count": null,
   "metadata": {},
   "outputs": [],
   "source": [
    "home = 'data/'\n",
    "file = 'ST001047.xlsx'\n",
    "\n",
    "DataTable,PeakTable = cb.utils.load_dataXL(home + file, DataSheet='Data', PeakSheet='Peak')"
   ]
  },
  {
   "cell_type": "markdown",
   "metadata": {},
   "source": [
    "### 3. Extract X & Y"
   ]
  },
  {
   "cell_type": "code",
   "execution_count": null,
   "metadata": {},
   "outputs": [],
   "source": [
    "# Clean PeakTable\n",
    "RSD = PeakTable['QC_RSD']\n",
    "PercMiss = PeakTable['Perc_missing']\n",
    "PeakTableClean = PeakTable[(RSD < 20) & (PercMiss < 10)]\n",
    "\n",
    "# Select Subset of Data\n",
    "DataTable2 = DataTable[(DataTable.Class == \"GC\") | (DataTable.Class == \"HE\")]\n",
    "\n",
    "# Create a Binary Y Vector \n",
    "Outcomes = DataTable2['Class']\n",
    "Y = [1 if outcome == 'GC' else 0 for outcome in Outcomes]\n",
    "Y = np.array(Y)\n",
    "\n",
    "# Extract and Scale Metabolite Data \n",
    "peaklist = PeakTableClean['Name']\n",
    "XT = DataTable2[peaklist]\n",
    "XTlog = np.log(XT)\n",
    "XTscale = cb.utils.scale(XTlog, method='auto')\n",
    "XTknn = cb.utils.knnimpute(XTscale, k=3) "
   ]
  },
  {
   "cell_type": "markdown",
   "metadata": {},
   "source": [
    "### 4. Hyperparameter Optimisation"
   ]
  },
  {
   "cell_type": "code",
   "execution_count": null,
   "metadata": {
    "scrolled": false
   },
   "outputs": [],
   "source": [
    "# Parameter Dictionary\n",
    "lr = [0.001,0.005,0.01,0.05,0.1,1]\n",
    "neurons = [2, 3, 4, 5, 6]\n",
    "\n",
    "param_dict = dict(learning_rate=lr,\n",
    "                  n_neurons=neurons,\n",
    "                  epochs=400,\n",
    "                  momentum=0.5,\n",
    "                  decay=0,\n",
    "                  loss='binary_crossentropy')\n",
    "\n",
    "\n",
    "# Initialise\n",
    "cv = cb.cross_val.kfold(model=cb.model.NN_SigmoidSigmoid,\n",
    "                                X=XTknn,\n",
    "                                Y=Y,\n",
    "                                param_dict=param_dict,\n",
    "                                folds=5,\n",
    "                                n_mc=5)\n",
    "\n",
    "# Run and Plot\n",
    "cv.run()\n",
    "cv.plot(metric='auc', color_beta=[5,5,5])\n",
    "cv.plot(metric='r2q2', color_beta=[5,5,5])"
   ]
  },
  {
   "cell_type": "code",
   "execution_count": null,
   "metadata": {},
   "outputs": [],
   "source": [
    "# Parameter Dictionary\n",
    "lr = [0.001,0.02,0.04,0.06,0.08,0.1,0.12,0.14,0.16,0.5,1]\n",
    "\n",
    "param_dict = dict(learning_rate=lr,\n",
    "                  n_neurons=2,\n",
    "                  epochs=400,\n",
    "                  momentum=0.5,\n",
    "                  decay=0,\n",
    "                  loss='binary_crossentropy')\n",
    "\n",
    "# Initialise\n",
    "cv = cb.cross_val.kfold(model=cb.model.NN_SigmoidSigmoid,\n",
    "                                X=XTknn,\n",
    "                                Y=Y,\n",
    "                                param_dict=param_dict,\n",
    "                                folds=5,\n",
    "                                n_mc=10)\n",
    "\n",
    "# Run and Plot\n",
    "cv.run()\n",
    "cv.plot(metric='auc')\n",
    "cv.plot(metric='r2q2')"
   ]
  },
  {
   "cell_type": "code",
   "execution_count": null,
   "metadata": {},
   "outputs": [],
   "source": [
    "# Build Model and plot projections (kfold - monte carlo reps)\n",
    "# To do: Still working on this\n",
    "\n",
    "modelOptimise = cb.model.NN_SigmoidSigmoid(learning_rate=0.04,\n",
    "                                  n_neurons=2,\n",
    "                                  epochs=400,\n",
    "                                  momentum=0.5,\n",
    "                                  decay=0,\n",
    "                                  loss='binary_crossentropy')\n",
    "modelOptimise.train(XTknn, Y)\n",
    "Ytest = modelOptimise.test(XTknn)\n",
    "\n",
    "# modelOptimise.plot_projections_kfold(label=DataTable[['Idx','SampleID']],\n",
    "#                              size=12,\n",
    "#                              ci95=True,\n",
    "#                              scatterplot=True,\n",
    "#                              weight_alt=True,\n",
    "#                              folds=5,\n",
    "#                              n_mc=10)\n"
   ]
  },
  {
   "cell_type": "markdown",
   "metadata": {},
   "source": [
    "### 5. Build Model & Evaluate"
   ]
  },
  {
   "cell_type": "code",
   "execution_count": null,
   "metadata": {
    "scrolled": false
   },
   "outputs": [],
   "source": [
    "# Build Model\n",
    "model = cb.model.NN_SigmoidSigmoid(learning_rate=0.04,\n",
    "                                  n_neurons=2,\n",
    "                                  epochs=400,\n",
    "                                  momentum=0.5,\n",
    "                                  decay=0,\n",
    "                                  loss='binary_crossentropy')\n",
    "model.train(XTknn, Y)\n",
    "model.test(XTknn)\n",
    "\n",
    "# Evaluate Model\n",
    "model.evaluate(cutoffscore=0.5)"
   ]
  },
  {
   "cell_type": "markdown",
   "metadata": {},
   "source": [
    "### 6. Visualise"
   ]
  },
  {
   "cell_type": "code",
   "execution_count": null,
   "metadata": {
    "scrolled": true
   },
   "outputs": [],
   "source": [
    "# To do:\n",
    "    # Parallel bootstrap resampling\n",
    "\n",
    "# Calculate the bootstrapped confidence intervals \n",
    "model.calc_bootci(type='bc', bootnum=100)                # decrease bootnum if it this takes too long on your machine"
   ]
  },
  {
   "cell_type": "code",
   "execution_count": null,
   "metadata": {},
   "outputs": [],
   "source": [
    "# To do:\n",
    "    # density figure: figure dimensions\n",
    "    # weight alt: figure dimensions + ci95 + intersecting line\n",
    "\n",
    "model.plot_projections(label=DataTable2[['Idx','SampleID']],\n",
    "                       size=12,\n",
    "                       scatterplot=True,\n",
    "                       weight_alt=False) "
   ]
  },
  {
   "cell_type": "code",
   "execution_count": null,
   "metadata": {},
   "outputs": [],
   "source": [
    "# To do:\n",
    "    # Plot density to check if there is flipping\n",
    "    # Fix sorting\n",
    "\n",
    "model.plot_loadings(PeakTableClean,\n",
    "                    peaklist,\n",
    "                    ylabel='Label',  # change ylabel to 'Name' \n",
    "                    sort=True)      # change sort to False"
   ]
  },
  {
   "cell_type": "code",
   "execution_count": null,
   "metadata": {},
   "outputs": [],
   "source": [
    "# To do:\n",
    "    # Rename output in peakSheet_featureimportance\n",
    "    # Fix sorting\n",
    "    \n",
    "peakSheet_featureimportance = model.plot_featureimportance(PeakTable,\n",
    "                                         peaklist,\n",
    "                                         ylabel='Label',  # change ylabel to 'Name' \n",
    "                                         sort=True)      # change sort to False"
   ]
  },
  {
   "cell_type": "markdown",
   "metadata": {},
   "source": [
    "### 7. Evaluate"
   ]
  },
  {
   "cell_type": "code",
   "execution_count": null,
   "metadata": {},
   "outputs": [],
   "source": [
    "model.booteval(XTknn, Y, bootnum=100)"
   ]
  },
  {
   "cell_type": "code",
   "execution_count": null,
   "metadata": {},
   "outputs": [],
   "source": [
    "# To do: Parallel, add alternative metrics\n",
    "\n",
    "model.permutation_test(nperm=10) "
   ]
  },
  {
   "cell_type": "code",
   "execution_count": null,
   "metadata": {},
   "outputs": [],
   "source": []
  },
  {
   "cell_type": "code",
   "execution_count": null,
   "metadata": {},
   "outputs": [],
   "source": []
  },
  {
   "cell_type": "code",
   "execution_count": null,
   "metadata": {},
   "outputs": [],
   "source": []
  },
  {
   "cell_type": "code",
   "execution_count": null,
   "metadata": {},
   "outputs": [],
   "source": []
  }
 ],
 "metadata": {
  "kernelspec": {
   "display_name": "Python 3",
   "language": "python",
   "name": "python3"
  },
  "language_info": {
   "codemirror_mode": {
    "name": "ipython",
    "version": 3
   },
   "file_extension": ".py",
   "mimetype": "text/x-python",
   "name": "python",
   "nbconvert_exporter": "python",
   "pygments_lexer": "ipython3",
   "version": "3.7.3"
  },
  "toc": {
   "base_numbering": 1,
   "nav_menu": {},
   "number_sections": false,
   "sideBar": false,
   "skip_h1_title": false,
   "title_cell": "Table of Contents",
   "title_sidebar": "Contents",
   "toc_cell": false,
   "toc_position": {},
   "toc_section_display": false,
   "toc_window_display": false
  },
  "toc-autonumbering": false,
  "toc-showmarkdowntxt": false
 },
 "nbformat": 4,
 "nbformat_minor": 2
}
