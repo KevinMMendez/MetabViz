{
 "cells": [
  {
   "cell_type": "markdown",
   "metadata": {
    "toc-hr-collapsed": false
   },
   "source": [
    "<div style=\"text-align: justify; padding:5px; background-color:rgb(252, 253, 255); border: 1px solid lightgrey; padding-left: 1em; padding-right: 1em;\">\n",
    "    <font color='red'>To begin: Click anywhere in this cell and press <kbd>Run</kbd> on the menu bar. This executes the current cell and then highlights the next cell. There are two types of cells. A <i>text cell</i> and a <i>code cell</i>. When you <kbd>Run</kbd> a text cell (<i>we are in a text cell now</i>), you advance to the next cell without executing any code. When you <kbd>Run</kbd> a code cell (<i>identified by <span style=\"font-family: courier; color:black; background-color:white;\">In[ ]:</span> to the left of the cell</i>) you advance to the next cell after executing all the Python code within that cell. Any visual results produced by the code (text/figures) are reported directly below that cell. Press <kbd>Run</kbd> again. Repeat this process until the end of the notebook. <b>NOTE:</b> All the cells in this notebook can be automatically executed sequentially by clicking <kbd>Kernel</kbd><font color='black'>→</font><kbd>Restart and Run All</kbd>. Should anything crash then restart the Jupyter Kernal by clicking <kbd>Kernel</kbd><font color='black'>→</font><kbd>Restart</kbd>, and start again from the top.\n",
    "        \n",
    "</div>"
   ]
  },
  {
   "cell_type": "markdown",
   "metadata": {
    "toc-hr-collapsed": true
   },
   "source": [
    "### 1. Import Packages"
   ]
  },
  {
   "cell_type": "code",
   "execution_count": null,
   "metadata": {},
   "outputs": [],
   "source": [
    "import numpy as np\n",
    "import pandas as pd\n",
    "import cimcb as cb\n",
    "\n",
    "print('All packages successfully loaded')\n",
    "\n",
    "%load_ext autoreload\n",
    "%autoreload 2\n",
    "\n",
    "# Ignore warnings for now\n",
    "def warn(*args, **kwargs):\n",
    "    pass\n",
    "import warnings\n",
    "warnings.warn = warn"
   ]
  },
  {
   "cell_type": "markdown",
   "metadata": {},
   "source": [
    "### 2. Load Data & Peak Sheet"
   ]
  },
  {
   "cell_type": "code",
   "execution_count": null,
   "metadata": {},
   "outputs": [],
   "source": [
    "home = 'data/'\n",
    "file = 'MTBLS90.xlsx'\n",
    "\n",
    "DataTable,PeakTable = cb.utils.load_dataXL(home + file, DataSheet='Data', PeakSheet='Peak')"
   ]
  },
  {
   "cell_type": "markdown",
   "metadata": {},
   "source": [
    "### 3. Extract X & Y"
   ]
  },
  {
   "cell_type": "code",
   "execution_count": null,
   "metadata": {},
   "outputs": [],
   "source": [
    "# Select Subset of Data\n",
    "DataTable2 = DataTable[(DataTable.Class == 1) | (DataTable.Class == 0)]\n",
    "\n",
    "# Create a Binary Y Vector \n",
    "Outcomes = DataTable2['Class']\n",
    "Y = Outcomes.values \n",
    "\n",
    "# Extract and Scale Metabolite Data \n",
    "peaklist = PeakTable['Name']                           \n",
    "XT = DataTable2[peaklist]\n",
    "XTlog = np.log(XT)                                          \n",
    "XTscale = cb.utils.scale(XTlog, method='auto')              \n",
    "XTknn = cb.utils.knnimpute(XTscale, k=3)  "
   ]
  },
  {
   "cell_type": "markdown",
   "metadata": {},
   "source": [
    "### 4. Hyperparameter Optimisation"
   ]
  },
  {
   "cell_type": "code",
   "execution_count": null,
   "metadata": {
    "scrolled": false
   },
   "outputs": [],
   "source": [
    "# Parameter Dictionary\n",
    "lr = [0.001,0.005,0.01,0.02,0.03,0.1,0.5,1]\n",
    "neurons = [2, 3, 4, 5, 6]\n",
    "\n",
    "param_dict = dict(learning_rate=lr,\n",
    "                  n_neurons=neurons,\n",
    "                  epochs=1000,\n",
    "                  momentum=0.5,\n",
    "                  decay=0,\n",
    "                  loss='binary_crossentropy')\n",
    "\n",
    "# Initialise\n",
    "cv = cb.cross_val.kfold(model=cb.model.NN_SigmoidSigmoid,\n",
    "                                X=XTknn,\n",
    "                                Y=Y,\n",
    "                                param_dict=param_dict,\n",
    "                                folds=5,\n",
    "                                n_mc=10)\n",
    "\n",
    "# Run and Plot\n",
    "cv.run()\n",
    "cv.plot(metric='auc')\n",
    "cv.plot(metric='r2q2')"
   ]
  },
  {
   "cell_type": "code",
   "execution_count": null,
   "metadata": {},
   "outputs": [],
   "source": [
    "# Scatter_show option: \"None\", \"Inner\", \"Full\", \"CV\", \"All\"\n",
    "\n",
    "view_param = dict(learning_rate=0.02,\n",
    "                  n_neurons=2,\n",
    "                  epochs=1000,\n",
    "                  momentum=0.5,\n",
    "                  decay=0,\n",
    "                  loss='binary_crossentropy')\n",
    "\n",
    "cv.plot_projections(param=view_param,\n",
    "                    components=[1,2,3],\n",
    "                    scatter_show=\"Inner\",\n",
    "                    label=DataTable2.Class,\n",
    "                    legend=False)"
   ]
  },
  {
   "cell_type": "code",
   "execution_count": null,
   "metadata": {},
   "outputs": [],
   "source": [
    "model = cb.model.NN_SigmoidSigmoid(learning_rate=0.02,\n",
    "                                      n_neurons=2,\n",
    "                                      epochs=1000,\n",
    "                                      momentum=0.5,\n",
    "                                      decay=0,\n",
    "                                      loss='binary_crossentropy')\n",
    "model.train(XTknn, Y)\n",
    "model.test(XTknn)\n",
    "model.permutation_test(nperm=100)"
   ]
  },
  {
   "cell_type": "markdown",
   "metadata": {},
   "source": [
    "### 5. Build Model & Evaluate"
   ]
  },
  {
   "cell_type": "code",
   "execution_count": null,
   "metadata": {
    "scrolled": false
   },
   "outputs": [],
   "source": [
    "# Build Model\n",
    "model = cb.model.NN_SigmoidSigmoid(learning_rate=0.02,\n",
    "                                      n_neurons=2,\n",
    "                                      epochs=1000,\n",
    "                                      momentum=0.5,\n",
    "                                      decay=0,\n",
    "                                      loss='binary_crossentropy')\n",
    "model.train(XTknn, Y)\n",
    "model.test(XTknn)\n",
    "\n",
    "# Evaluate Model \n",
    "model.evaluate(cutoffscore=0.5) "
   ]
  },
  {
   "cell_type": "markdown",
   "metadata": {},
   "source": [
    "### 6. Visualise"
   ]
  },
  {
   "cell_type": "code",
   "execution_count": null,
   "metadata": {},
   "outputs": [],
   "source": [
    "bootmodel = cb.bootstrap.BC(model, bootnum=100)\n",
    "bootmodel.run()"
   ]
  },
  {
   "cell_type": "code",
   "execution_count": null,
   "metadata": {},
   "outputs": [],
   "source": [
    "# Scatter_show option: \"None\", \"Inner\", \"IB\", \"OOB\", \"All\"\n",
    "\n",
    "bootmodel.plot_projections(scatter_show='None',\n",
    "                           legend=True,\n",
    "                           label=DataTable2.Class)"
   ]
  },
  {
   "cell_type": "code",
   "execution_count": null,
   "metadata": {},
   "outputs": [],
   "source": [
    "bootmodel.plot_loadings(PeakTable,\n",
    "                        peaklist,\n",
    "                        ylabel='Label',  # change ylabel to 'Name' \n",
    "                        sort=True)      # change sort to False"
   ]
  },
  {
   "cell_type": "code",
   "execution_count": null,
   "metadata": {
    "scrolled": false
   },
   "outputs": [],
   "source": [
    "peakSheet_featureimportance = bootmodel.plot_featureimportance(PeakTable,\n",
    "                                         peaklist,\n",
    "                                         ylabel='Label',  # change ylabel to 'Name' \n",
    "                                         sort=True,\n",
    "                                         sort_ci=True)      # change sort to False"
   ]
  },
  {
   "cell_type": "markdown",
   "metadata": {},
   "source": [
    "### 7. Evaluate"
   ]
  },
  {
   "cell_type": "code",
   "execution_count": null,
   "metadata": {},
   "outputs": [],
   "source": [
    "#### Testing a few options: ####\n",
    "# parametric = True / False / None / 1\n",
    "# True: Upper limit exactly mirrors lower limit\n",
    "# False: Same as True, except if Upper CI was already 1, upper limit remains 1 at given point\n",
    "# None: Upper limit is always 1\n",
    "# 1: No upper limit\n",
    "\n",
    "# BC = True / False; whether to do bias-correction for ROC Curve\n",
    "\n",
    "bootmodel.evaluate(parametric=None, bc=True) # Options: parametric = True / False "
   ]
  },
  {
   "cell_type": "markdown",
   "metadata": {},
   "source": [
    "### 8. Save Table"
   ]
  },
  {
   "cell_type": "code",
   "execution_count": null,
   "metadata": {},
   "outputs": [],
   "source": [
    "# Create an empty excel workbook\n",
    "writer = pd.ExcelWriter(\"ANNSigSig_MTBLS90.xlsx\")     # provide the filename for the Excel file\n",
    "\n",
    "# Add each dataframe to the workbook in turn, as a separate worksheet\n",
    "peakSheet_featureimportance.to_excel(writer, sheet_name='Peaksheet', index=False)\n",
    "\n",
    "# Write the Excel workbook to disk\n",
    "writer.save()\n",
    "\n",
    "print(\"Done!\")"
   ]
  },
  {
   "cell_type": "code",
   "execution_count": null,
   "metadata": {},
   "outputs": [],
   "source": []
  },
  {
   "cell_type": "code",
   "execution_count": null,
   "metadata": {},
   "outputs": [],
   "source": []
  },
  {
   "cell_type": "code",
   "execution_count": null,
   "metadata": {},
   "outputs": [],
   "source": []
  },
  {
   "cell_type": "code",
   "execution_count": null,
   "metadata": {},
   "outputs": [],
   "source": []
  },
  {
   "cell_type": "code",
   "execution_count": null,
   "metadata": {},
   "outputs": [],
   "source": []
  },
  {
   "cell_type": "code",
   "execution_count": null,
   "metadata": {},
   "outputs": [],
   "source": []
  }
 ],
 "metadata": {
  "kernelspec": {
   "display_name": "Python 3",
   "language": "python",
   "name": "python3"
  },
  "language_info": {
   "codemirror_mode": {
    "name": "ipython",
    "version": 3
   },
   "file_extension": ".py",
   "mimetype": "text/x-python",
   "name": "python",
   "nbconvert_exporter": "python",
   "pygments_lexer": "ipython3",
   "version": "3.7.3"
  },
  "toc": {
   "base_numbering": 1,
   "nav_menu": {},
   "number_sections": false,
   "sideBar": false,
   "skip_h1_title": false,
   "title_cell": "Table of Contents",
   "title_sidebar": "Contents",
   "toc_cell": false,
   "toc_position": {},
   "toc_section_display": false,
   "toc_window_display": false
  },
  "toc-autonumbering": false,
  "toc-showmarkdowntxt": false
 },
 "nbformat": 4,
 "nbformat_minor": 2
}
